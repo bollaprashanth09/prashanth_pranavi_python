{
  "nbformat": 4,
  "nbformat_minor": 0,
  "metadata": {
    "colab": {
      "provenance": [],
      "authorship_tag": "ABX9TyMS3bws6sgcYDSjNIURiW/3",
      "include_colab_link": true
    },
    "kernelspec": {
      "name": "python3",
      "display_name": "Python 3"
    },
    "language_info": {
      "name": "python"
    }
  },
  "cells": [
    {
      "cell_type": "markdown",
      "metadata": {
        "id": "view-in-github",
        "colab_type": "text"
      },
      "source": [
        "<a href=\"https://colab.research.google.com/github/bollaprashanth09/prashanth_pranavi_python/blob/main/lab27_triangle.ipynb\" target=\"_parent\"><img src=\"https://colab.research.google.com/assets/colab-badge.svg\" alt=\"Open In Colab\"/></a>"
      ]
    },
    {
      "cell_type": "code",
      "execution_count": 1,
      "metadata": {
        "colab": {
          "base_uri": "https://localhost:8080/"
        },
        "id": "wjgIQ3CUq8up",
        "outputId": "5fbd305e-b9be-440f-c634-64015a440ee4"
      },
      "outputs": [
        {
          "output_type": "stream",
          "name": "stdout",
          "text": [
            "* \n",
            "* * \n",
            "* * * \n",
            "* * * * \n",
            "* * * * * \n"
          ]
        }
      ],
      "source": [
        "# Number of rows for the triangle\n",
        "rows = 5\n",
        "\n",
        "# Outer loop for the number of rows\n",
        "for i in range(1, rows + 1):\n",
        "    # Inner loop for printing asterisks in each row\n",
        "    for j in range(i):\n",
        "        print(\"*\", end=\" \")  # Print an asterisk followed by a space\n",
        "    print()  # Move to the next line after finishing the inner loop\n"
      ]
    }
  ]
}