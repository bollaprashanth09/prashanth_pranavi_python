{
  "nbformat": 4,
  "nbformat_minor": 0,
  "metadata": {
    "colab": {
      "provenance": [],
      "authorship_tag": "ABX9TyMGStmBD6Qe5DJBLbH22RGW",
      "include_colab_link": true
    },
    "kernelspec": {
      "name": "python3",
      "display_name": "Python 3"
    },
    "language_info": {
      "name": "python"
    }
  },
  "cells": [
    {
      "cell_type": "markdown",
      "metadata": {
        "id": "view-in-github",
        "colab_type": "text"
      },
      "source": [
        "<a href=\"https://colab.research.google.com/github/bollaprashanth09/prashanth_pranavi_python/blob/main/lab_22_a.ipynb\" target=\"_parent\"><img src=\"https://colab.research.google.com/assets/colab-badge.svg\" alt=\"Open In Colab\"/></a>"
      ]
    },
    {
      "cell_type": "code",
      "execution_count": 1,
      "metadata": {
        "colab": {
          "base_uri": "https://localhost:8080/"
        },
        "id": "8-iRyTQWq4yv",
        "outputId": "c9e13c58-de49-46f1-96f1-887b50dfd174"
      },
      "outputs": [
        {
          "output_type": "stream",
          "name": "stdout",
          "text": [
            "Enter a number: 5\n",
            "5 is positive.\n"
          ]
        }
      ],
      "source": [
        "# Input number\n",
        "number = int(input(\"Enter a number: \"))\n",
        "\n",
        "# Nested if statement\n",
        "if number >= 0:\n",
        "    if number == 0:\n",
        "        print(f\"The number is zero.\")\n",
        "    else:\n",
        "        print(f\"{number} is positive.\")\n",
        "else:\n",
        "    print(f\"{number} is negative.\")\n"
      ]
    }
  ]
}