{
 "cells": [
  {
   "cell_type": "code",
   "execution_count": null,
   "id": "a21c320c",
   "metadata": {
    "vscode": {
     "languageId": "plaintext"
    }
   },
   "outputs": [],
   "source": [
    "# Identity Operators\n",
    "\n",
    "# Define variables\n",
    "x = [1, 2, 3]\n",
    "y = [1, 2, 3]\n",
    "z = x\n",
    "\n",
    "# Identity comparison\n",
    "print(f\"x is y: {x is y}\")          # False, x and y are different objects\n",
    "print(f\"x is z: {x is z}\")          # True, x and z refer to the same object\n",
    "print(f\"x is not y: {x is not y}\")  # True, x and y are different objects\n",
    "print(f\"x is not z: {x is not z}\")  # False, x and z refer to the same object\n",
    "\n",
    "# Membership Operators\n",
    "\n",
    "# Define a sequence and a value\n",
    "sequence = [1, 2, 3, 4, 5]\n",
    "value = 3\n",
    "value_not_in = 10\n",
    "\n",
    "# Membership checks\n",
    "print(f\"value in sequence: {value in sequence}\")                      # True, value is in the list\n",
    "print(f\"value_not_in in sequence: {value_not_in in sequence}\")        # False, value_not_in is not in the list\n",
    "print(f\"value not in sequence: {value not in sequence}\")              # False, value is in the list\n",
    "print(f\"value_not_in not in sequence: {value_not_in not in sequence}\")# True, value_not_in is not in the list\n",
    "\n",
    "# Additional example with strings\n",
    "string = \"Hello, World!\"\n",
    "char = \"H\"\n",
    "char_not_in = \"z\"\n",
    "\n",
    "print(f\"('{char}' in string: {char in string})\")                      # True, char is in the string\n",
    "print(f\"('{char_not_in}' in string: {char_not_in in string})\")        # False, char_not_in is not in the string\n",
    "print(f\"('{char_not_in}' not in string: {char_not_in not in string})\")# True, char_not_in is not in the string\n",
    "print(f\"('{char}' not in string: {char not in string})\")              # False, char is in the string\n"
   ]
  }
 ],
 "metadata": {
  "language_info": {
   "name": "python"
  }
 },
 "nbformat": 4,
 "nbformat_minor": 5
}
