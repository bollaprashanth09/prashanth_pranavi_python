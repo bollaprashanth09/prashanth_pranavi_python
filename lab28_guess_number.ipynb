{
  "nbformat": 4,
  "nbformat_minor": 0,
  "metadata": {
    "colab": {
      "provenance": [],
      "authorship_tag": "ABX9TyMXWvXpr4cFllErLQR9t3E0",
      "include_colab_link": true
    },
    "kernelspec": {
      "name": "python3",
      "display_name": "Python 3"
    },
    "language_info": {
      "name": "python"
    }
  },
  "cells": [
    {
      "cell_type": "markdown",
      "metadata": {
        "id": "view-in-github",
        "colab_type": "text"
      },
      "source": [
        "<a href=\"https://colab.research.google.com/github/bollaprashanth09/prashanth_pranavi_python/blob/main/lab28_guess_number.ipynb\" target=\"_parent\"><img src=\"https://colab.research.google.com/assets/colab-badge.svg\" alt=\"Open In Colab\"/></a>"
      ]
    },
    {
      "cell_type": "code",
      "execution_count": null,
      "metadata": {
        "colab": {
          "base_uri": "https://localhost:8080/"
        },
        "id": "2P2IwIn6wog8",
        "outputId": "3be8e31a-5e33-466c-9bda-4cd4e1f1fe32"
      },
      "outputs": [
        {
          "name": "stdout",
          "output_type": "stream",
          "text": [
            "Guess the number between 1 and 10: 9\n"
          ]
        }
      ],
      "source": [
        "# Correct number to guess\n",
        "correct_number = 7\n",
        "\n",
        "# Initialize the user's guess\n",
        "guess = 0\n",
        "\n",
        "# Keep asking the user to guess until they get it right\n",
        "while guess != correct_number:\n",
        "    guess = int(input(\"Guess the number between 1 and 10: \"))\n",
        "\n",
        "print(\"Congratulations! You guessed the correct number.\")\n"
      ]
    }
  ]
}