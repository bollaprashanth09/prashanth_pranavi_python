{
  "nbformat": 4,
  "nbformat_minor": 0,
  "metadata": {
    "colab": {
      "provenance": [],
      "authorship_tag": "ABX9TyO4pp/ePC5PwWEe43ixjfIM",
      "include_colab_link": true
    },
    "kernelspec": {
      "name": "python3",
      "display_name": "Python 3"
    },
    "language_info": {
      "name": "python"
    }
  },
  "cells": [
    {
      "cell_type": "markdown",
      "metadata": {
        "id": "view-in-github",
        "colab_type": "text"
      },
      "source": [
        "<a href=\"https://colab.research.google.com/github/bollaprashanth09/prashanth_pranavi_python/blob/main/lab23_sum.ipynb\" target=\"_parent\"><img src=\"https://colab.research.google.com/assets/colab-badge.svg\" alt=\"Open In Colab\"/></a>"
      ]
    },
    {
      "cell_type": "code",
      "execution_count": 8,
      "metadata": {
        "colab": {
          "base_uri": "https://localhost:8080/"
        },
        "id": "UGjR_E9xcJIm",
        "outputId": "3571bff0-8cd2-4ef5-c476-5d946db55e02"
      },
      "outputs": [
        {
          "output_type": "stream",
          "name": "stdout",
          "text": [
            "Enter the first integer: 12\n",
            "Enter the second integer: 13\n",
            "Enter the first integer: 12\n",
            "Enter the second integer: 13\n",
            "Output: 0\n"
          ]
        }
      ],
      "source": [
        "\n",
        "num1 = int(input(\"Enter the first integer: \"))\n",
        "num2 = int(input(\"Enter the second integer: \"))\n",
        "sum_of_numbers=num1+num2\n",
        "num1 = int(input(\"Enter the first integer: \"))\n",
        "num2 = int(input(\"Enter the second integer: \"))\n",
        "sum_of_numbers = num1 + num2\n",
        "if 10 <= sum_of_numbers <= 20:\n",
        "    print(\"Output: 15\")\n",
        "else:\n",
        "    print(\"Output: 0\")\n"
      ]
    }
  ]
}