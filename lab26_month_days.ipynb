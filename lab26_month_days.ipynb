{
  "nbformat": 4,
  "nbformat_minor": 0,
  "metadata": {
    "colab": {
      "provenance": [],
      "authorship_tag": "ABX9TyP9Vef3Ukstymg7UZnEDEP5",
      "include_colab_link": true
    },
    "kernelspec": {
      "name": "python3",
      "display_name": "Python 3"
    },
    "language_info": {
      "name": "python"
    }
  },
  "cells": [
    {
      "cell_type": "markdown",
      "metadata": {
        "id": "view-in-github",
        "colab_type": "text"
      },
      "source": [
        "<a href=\"https://colab.research.google.com/github/bollaprashanth09/prashanth_pranavi_python/blob/main/lab26_month_days.ipynb\" target=\"_parent\"><img src=\"https://colab.research.google.com/assets/colab-badge.svg\" alt=\"Open In Colab\"/></a>"
      ]
    },
    {
      "cell_type": "code",
      "execution_count": 1,
      "metadata": {
        "colab": {
          "base_uri": "https://localhost:8080/"
        },
        "id": "lt0mmjNXmIyN",
        "outputId": "c3cee03f-9030-4379-e0fb-eff85b2507db"
      },
      "outputs": [
        {
          "output_type": "stream",
          "name": "stdout",
          "text": [
            "Enter the month name: august\n",
            "The number of days in August is: 31\n"
          ]
        }
      ],
      "source": [
        "# Input the month name\n",
        "month_name = input(\"Enter the month name: \").lower()  # Convert to lowercase for case-insensitive comparison\n",
        "\n",
        "# Determine the number of days based on the month\n",
        "if month_name == \"january\" or month_name == \"march\" or month_name == \"may\" or \\\n",
        "   month_name == \"july\" or month_name == \"august\" or month_name == \"october\" or month_name == \"december\":\n",
        "    days = 31\n",
        "elif month_name == \"april\" or month_name == \"june\" or month_name == \"september\" or month_name == \"november\":\n",
        "    days = 30\n",
        "elif month_name == \"february\":\n",
        "    days = 28  # Assuming it's not a leap year\n",
        "else:\n",
        "    days = \"Invalid month name\"\n",
        "\n",
        "# Print the result\n",
        "print(f\"The number of days in {month_name.capitalize()} is: {days}\")\n"
      ]
    }
  ]
}