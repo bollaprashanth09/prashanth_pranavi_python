{
 "cells": [
  {
   "cell_type": "code",
   "execution_count": null,
   "id": "2e6d1ff6",
   "metadata": {
    "vscode": {
     "languageId": "plaintext"
    }
   },
   "outputs": [],
   "source": [
    "temperature = int(input(\"Enter temperature\"))\n",
    "\n",
    "if temperature < 0:\n",
    "    print(\"It's freezing!\")\n",
    "temperature = int(input(\"Enter temperature: \"))\n",
    "\n",
    "if temperature < 0:\n",
    "    print(\"It's freezing!\")\n",
    "elif temperature < 15:\n",
    "    print(\"It's cold!\")\n",
    "elif temperature < 25:\n",
    "    print(\"It's pleasant!\")\n",
    "else:\n",
    "    print(\"It's hot!\")\n"
   ]
  }
 ],
 "metadata": {
  "language_info": {
   "name": "python"
  }
 },
 "nbformat": 4,
 "nbformat_minor": 5
}
