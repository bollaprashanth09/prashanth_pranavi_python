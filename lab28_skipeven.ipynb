{
  "nbformat": 4,
  "nbformat_minor": 0,
  "metadata": {
    "colab": {
      "provenance": [],
      "authorship_tag": "ABX9TyO9y4QsWDFVuklZ2vnKKiS7",
      "include_colab_link": true
    },
    "kernelspec": {
      "name": "python3",
      "display_name": "Python 3"
    },
    "language_info": {
      "name": "python"
    }
  },
  "cells": [
    {
      "cell_type": "markdown",
      "metadata": {
        "id": "view-in-github",
        "colab_type": "text"
      },
      "source": [
        "<a href=\"https://colab.research.google.com/github/bollaprashanth09/prashanth_pranavi_python/blob/main/lab28_skipeven.ipynb\" target=\"_parent\"><img src=\"https://colab.research.google.com/assets/colab-badge.svg\" alt=\"Open In Colab\"/></a>"
      ]
    },
    {
      "cell_type": "code",
      "execution_count": 2,
      "metadata": {
        "colab": {
          "base_uri": "https://localhost:8080/"
        },
        "id": "JbVlrIeP0q90",
        "outputId": "cb1632ef-2264-4f31-8aec-d349c55a9632"
      },
      "outputs": [
        {
          "output_type": "stream",
          "name": "stdout",
          "text": [
            "1\n",
            "3\n",
            "5\n",
            "7\n",
            "9\n"
          ]
        }
      ],
      "source": [
        "# Initialize a number\n",
        "number = 0\n",
        "\n",
        "# Loop while number is less than 10\n",
        "while number < 10:\n",
        "    number += 1\n",
        "    if number % 2 == 0:\n",
        "        continue  # Skip the rest of the loop for even numbers\n",
        "    print(number)\n"
      ]
    }
  ]
}