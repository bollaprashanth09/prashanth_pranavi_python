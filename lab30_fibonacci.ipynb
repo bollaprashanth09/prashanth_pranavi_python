{
  "nbformat": 4,
  "nbformat_minor": 0,
  "metadata": {
    "colab": {
      "provenance": [],
      "authorship_tag": "ABX9TyOvLymVJ8OwiHrHE4V86lHa",
      "include_colab_link": true
    },
    "kernelspec": {
      "name": "python3",
      "display_name": "Python 3"
    },
    "language_info": {
      "name": "python"
    }
  },
  "cells": [
    {
      "cell_type": "markdown",
      "metadata": {
        "id": "view-in-github",
        "colab_type": "text"
      },
      "source": [
        "<a href=\"https://colab.research.google.com/github/bollaprashanth09/prashanth_pranavi_python/blob/main/lab30_fibonacci.ipynb\" target=\"_parent\"><img src=\"https://colab.research.google.com/assets/colab-badge.svg\" alt=\"Open In Colab\"/></a>"
      ]
    },
    {
      "cell_type": "code",
      "execution_count": 2,
      "metadata": {
        "colab": {
          "base_uri": "https://localhost:8080/"
        },
        "id": "QJrFy6on4GZp",
        "outputId": "06bc360f-b43f-4e08-b491-b5c8405955c3"
      },
      "outputs": [
        {
          "output_type": "stream",
          "name": "stdout",
          "text": [
            "Enter the starting number: 0\n",
            "Enter the ending number: 1000\n",
            "Fibonacci series between 0 and 1000 is:\n",
            "[0, 1, 1, 2, 3, 5, 8, 13, 21, 34, 55, 89, 144, 233, 377, 610, 987]\n"
          ]
        }
      ],
      "source": [
        "# Read the starting and ending numbers from the user\n",
        "start_num = int(input(\"Enter the starting number: \"))\n",
        "end_num = int(input(\"Enter the ending number: \"))\n",
        "\n",
        "# Initialize the first two Fibonacci numbers\n",
        "a, b = 0, 1\n",
        "\n",
        "# Initialize an empty list to store Fibonacci numbers within the range\n",
        "fibonacci_series = []\n",
        "\n",
        "# Generate Fibonacci numbers and store those within the range\n",
        "while a <= end_num:\n",
        "    if a >= start_num:\n",
        "        fibonacci_series.append(a)\n",
        "    a, b = b, a + b\n",
        "\n",
        "# Display the result\n",
        "if fibonacci_series:\n",
        "    print(f\"Fibonacci series between {start_num} and {end_num} is:\")\n",
        "    print(fibonacci_series)\n",
        "else:\n",
        "    print(f\"No Fibonacci numbers found between {start_num} and {end_num}\")\n"
      ]
    }
  ]
}