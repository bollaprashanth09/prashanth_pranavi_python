{
 "cells": [
  {
   "cell_type": "code",
   "execution_count": null,
   "id": "5d8ed752",
   "metadata": {
    "vscode": {
     "languageId": "plaintext"
    }
   },
   "outputs": [],
   "source": [
    "name = input(\"Enter your name: \")\n",
    "name = input(\"Enter your name: \")\n",
    "print(\"Hello,\", name)\n",
    "age = int(input(\"Enter your age: \"))\n",
    "age = int(input(\"Enter your age: \"))\n",
    "print(\"Your age is:\", age)\n",
    "x, y = map(int, input(\"Enter two numbers separated by space: \").split())\n",
    "print(f\"Sum of {x} and {y} is: {x + y}\")\n",
    "marks = int(input(\"Enter your marks (out of 100): \"))\n",
    "\n",
    "if marks >= 50:\n",
    "    print(\"Congratulations! You passed the exam.\")\n",
    "else:\n",
    "    print(\"Sorry, you failed. Better luck next time.\")\n"
   ]
  }
 ],
 "metadata": {
  "language_info": {
   "name": "python"
  }
 },
 "nbformat": 4,
 "nbformat_minor": 5
}
