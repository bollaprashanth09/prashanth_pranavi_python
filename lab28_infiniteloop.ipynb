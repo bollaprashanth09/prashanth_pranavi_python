{
  "nbformat": 4,
  "nbformat_minor": 0,
  "metadata": {
    "colab": {
      "provenance": [],
      "authorship_tag": "ABX9TyMyLmLgjOq/lK3ZWUr8NDvp",
      "include_colab_link": true
    },
    "kernelspec": {
      "name": "python3",
      "display_name": "Python 3"
    },
    "language_info": {
      "name": "python"
    }
  },
  "cells": [
    {
      "cell_type": "markdown",
      "metadata": {
        "id": "view-in-github",
        "colab_type": "text"
      },
      "source": [
        "<a href=\"https://colab.research.google.com/github/bollaprashanth09/prashanth_pranavi_python/blob/main/lab28_infiniteloop.ipynb\" target=\"_parent\"><img src=\"https://colab.research.google.com/assets/colab-badge.svg\" alt=\"Open In Colab\"/></a>"
      ]
    },
    {
      "cell_type": "code",
      "execution_count": 1,
      "metadata": {
        "colab": {
          "base_uri": "https://localhost:8080/"
        },
        "id": "450vHeR61-u0",
        "outputId": "d0492449-4383-491b-c6e6-8c487ab3dc2e"
      },
      "outputs": [
        {
          "output_type": "stream",
          "name": "stdout",
          "text": [
            "Enter your name (type 'exit' to stop): exit\n",
            "Loop exited.\n"
          ]
        }
      ],
      "source": [
        "# Start an infinite loop\n",
        "while True:\n",
        "    name = input(\"Enter your name (type 'exit' to stop): \")\n",
        "    if name.lower() == 'exit':\n",
        "        break\n",
        "    print(f\"Hello, {name}!\")\n",
        "\n",
        "print(\"Loop exited.\")\n"
      ]
    }
  ]
}