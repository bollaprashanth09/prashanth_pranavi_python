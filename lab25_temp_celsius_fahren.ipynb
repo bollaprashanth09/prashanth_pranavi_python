{
  "nbformat": 4,
  "nbformat_minor": 0,
  "metadata": {
    "colab": {
      "provenance": [],
      "authorship_tag": "ABX9TyPxtZWxinJWDtOhTW8LuHcJ",
      "include_colab_link": true
    },
    "kernelspec": {
      "name": "python3",
      "display_name": "Python 3"
    },
    "language_info": {
      "name": "python"
    }
  },
  "cells": [
    {
      "cell_type": "markdown",
      "metadata": {
        "id": "view-in-github",
        "colab_type": "text"
      },
      "source": [
        "<a href=\"https://colab.research.google.com/github/bollaprashanth09/prashanth_pranavi_python/blob/main/lab25_temp_celsius_fahren.ipynb\" target=\"_parent\"><img src=\"https://colab.research.google.com/assets/colab-badge.svg\" alt=\"Open In Colab\"/></a>"
      ]
    },
    {
      "cell_type": "code",
      "execution_count": 1,
      "metadata": {
        "colab": {
          "base_uri": "https://localhost:8080/"
        },
        "id": "IkvEkh3wjHDr",
        "outputId": "4fd64873-3f94-488d-f2ac-71939f0a5e4d"
      },
      "outputs": [
        {
          "output_type": "stream",
          "name": "stdout",
          "text": [
            "Input the temperature you like to convert? (e.g., 45F, 100C etc.) : 39C\n",
            "The temperature in Fahrenheit is 102 degrees.\n"
          ]
        }
      ],
      "source": [
        "# Prompt the user to input a temperature in the format (e.g., 45F, 100C, etc.)\n",
        "temp = input(\"Input the temperature you like to convert? (e.g., 45F, 100C etc.) : \")\n",
        "\n",
        "# Extract the numerical part of the temperature input (it is not integer)\n",
        "degree = int(temp[:-1])\n",
        "\n",
        "# Extract the convention part of the temperature input (either 'C' or 'F')\n",
        "i_convention = temp[-1]\n",
        "\n",
        "# Check if the input convention is in uppercase 'C' (Celsius)\n",
        "if i_convention.upper() == \"C\":\n",
        "    # Convert the Celsius temperature to Fahrenheit\n",
        "    result = int(round((9 * degree) / 5 + 32))\n",
        "    o_convention = \"Fahrenheit\"  # Set the output convention as Fahrenheit\n",
        "\n",
        "# Check if the input convention is in uppercase 'F' (Fahrenheit)\n",
        "elif i_convention.upper() == \"F\":\n",
        "    # Convert the Fahrenheit temperature to Celsius\n",
        "    result = int(round((degree - 32) * 5 / 9))\n",
        "    o_convention = \"Celsius\"  # Set the output convention as Celsius\n",
        "\n",
        "else:\n",
        "    # If the input convention is neither 'C' nor 'F', print an error message and exit the program\n",
        "    print(\"Input proper convention.\")\n",
        "    quit()\n",
        "\n",
        "# Display the converted temperature in the specified output convention\n",
        "print(\"The temperature in\", o_convention, \"is\", result, \"degrees.\")\n"
      ]
    }
  ]
}