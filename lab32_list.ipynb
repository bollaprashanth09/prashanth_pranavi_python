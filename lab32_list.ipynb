{
  "nbformat": 4,
  "nbformat_minor": 0,
  "metadata": {
    "colab": {
      "provenance": [],
      "authorship_tag": "ABX9TyMxeXcNWG4m9puQ7pScSZgF",
      "include_colab_link": true
    },
    "kernelspec": {
      "name": "python3",
      "display_name": "Python 3"
    },
    "language_info": {
      "name": "python"
    }
  },
  "cells": [
    {
      "cell_type": "markdown",
      "metadata": {
        "id": "view-in-github",
        "colab_type": "text"
      },
      "source": [
        "<a href=\"https://colab.research.google.com/github/bollaprashanth09/prashanth_pranavi_python/blob/main/lab32_list.ipynb\" target=\"_parent\"><img src=\"https://colab.research.google.com/assets/colab-badge.svg\" alt=\"Open In Colab\"/></a>"
      ]
    },
    {
      "cell_type": "code",
      "execution_count": 1,
      "metadata": {
        "colab": {
          "base_uri": "https://localhost:8080/"
        },
        "id": "rZUHsyQv_thR",
        "outputId": "c258b905-94e0-4b36-aede-228a540b06e6"
      },
      "outputs": [
        {
          "output_type": "stream",
          "name": "stdout",
          "text": [
            "Original List: ['apple', 'banana', 'cherry', 'mango', 'orange']\n"
          ]
        }
      ],
      "source": [
        "#  Creating a List\n",
        "fruits = [\"apple\", \"banana\", \"cherry\", \"mango\", \"orange\"]\n",
        "print(\"Original List:\", fruits)\n"
      ]
    },
    {
      "cell_type": "code",
      "source": [
        "#  Accessing Elements in a List\n",
        "first_fruit = fruits[0]  # First element\n",
        "last_fruit = fruits[-1]  # Last element\n",
        "print(\"First fruit:\", first_fruit)\n",
        "print(\"Last fruit:\", last_fruit)\n"
      ],
      "metadata": {
        "colab": {
          "base_uri": "https://localhost:8080/"
        },
        "id": "okx97x_5Agtu",
        "outputId": "d98b7fcb-a33e-4a6f-c486-7256d87dac89"
      },
      "execution_count": 2,
      "outputs": [
        {
          "output_type": "stream",
          "name": "stdout",
          "text": [
            "First fruit: apple\n",
            "Last fruit: orange\n"
          ]
        }
      ]
    },
    {
      "cell_type": "code",
      "source": [
        "#  Slicing a List\n",
        "sublist_fruits = fruits[:3]\n",
        "print(\"Sublist of first three fruits:\", sublist_fruits)\n"
      ],
      "metadata": {
        "colab": {
          "base_uri": "https://localhost:8080/"
        },
        "id": "Cy9VNfM6BABW",
        "outputId": "2457d0b3-30ac-4421-f696-917f8e3145a1"
      },
      "execution_count": 3,
      "outputs": [
        {
          "output_type": "stream",
          "name": "stdout",
          "text": [
            "Sublist of first three fruits: ['apple', 'banana', 'cherry']\n"
          ]
        }
      ]
    },
    {
      "cell_type": "code",
      "source": [
        "#  Adding Elements to a List\n",
        "fruits.append(\"grape\")\n",
        "print(\"List after adding 'grape':\", fruits)\n"
      ],
      "metadata": {
        "colab": {
          "base_uri": "https://localhost:8080/"
        },
        "id": "R7YhhzUqBax9",
        "outputId": "42a2ce42-56eb-499d-d1ee-3bef0aec813b"
      },
      "execution_count": 4,
      "outputs": [
        {
          "output_type": "stream",
          "name": "stdout",
          "text": [
            "List after adding 'grape': ['apple', 'banana', 'cherry', 'mango', 'orange', 'grape']\n"
          ]
        }
      ]
    },
    {
      "cell_type": "code",
      "source": [
        "#  Inserting Elements into a List\n",
        "fruits.insert(1, \"pineapple\")\n",
        "print(\"List after inserting 'pineapple' at position 1:\", fruits)\n"
      ],
      "metadata": {
        "colab": {
          "base_uri": "https://localhost:8080/"
        },
        "id": "r19nROPVBwcm",
        "outputId": "816f87e3-fa15-41b3-baac-5f50836e779e"
      },
      "execution_count": 5,
      "outputs": [
        {
          "output_type": "stream",
          "name": "stdout",
          "text": [
            "List after inserting 'pineapple' at position 1: ['apple', 'pineapple', 'banana', 'cherry', 'mango', 'orange', 'grape']\n"
          ]
        }
      ]
    },
    {
      "cell_type": "code",
      "source": [
        "#  Removing Elements from a List\n",
        "fruits.remove(\"banana\")\n",
        "print(\"List after removing 'banana':\", fruits)\n"
      ],
      "metadata": {
        "colab": {
          "base_uri": "https://localhost:8080/"
        },
        "id": "1V1pMALQCTJu",
        "outputId": "9f5be84c-6d45-41c8-9503-c1ffea757fbb"
      },
      "execution_count": 6,
      "outputs": [
        {
          "output_type": "stream",
          "name": "stdout",
          "text": [
            "List after removing 'banana': ['apple', 'pineapple', 'cherry', 'mango', 'orange', 'grape']\n"
          ]
        }
      ]
    },
    {
      "cell_type": "code",
      "source": [
        "#  Popping Elements from a List\n",
        "popped_fruit = fruits.pop()  # Removes and returns the last item\n",
        "print(\"Popped fruit:\", popped_fruit)\n",
        "print(\"List after popping the last element:\", fruits)\n"
      ],
      "metadata": {
        "colab": {
          "base_uri": "https://localhost:8080/"
        },
        "id": "87AkzRHdDMTe",
        "outputId": "c90f6f52-29e5-46c6-9be5-25c90d4a663d"
      },
      "execution_count": 7,
      "outputs": [
        {
          "output_type": "stream",
          "name": "stdout",
          "text": [
            "Popped fruit: grape\n",
            "List after popping the last element: ['apple', 'pineapple', 'cherry', 'mango', 'orange']\n"
          ]
        }
      ]
    },
    {
      "cell_type": "code",
      "source": [
        "#  Finding the Length of a List\n",
        "length = len(fruits)\n",
        "print(\"Number of fruits in the list:\", length)\n"
      ],
      "metadata": {
        "colab": {
          "base_uri": "https://localhost:8080/"
        },
        "id": "qfVD3U6PDcud",
        "outputId": "32abc4df-f01d-4734-a78a-821aa0d6aa0c"
      },
      "execution_count": 8,
      "outputs": [
        {
          "output_type": "stream",
          "name": "stdout",
          "text": [
            "Number of fruits in the list: 5\n"
          ]
        }
      ]
    },
    {
      "cell_type": "code",
      "source": [
        "#  Checking Membership in a List\n",
        "is_in_list = \"apple\" in fruits\n",
        "print(\"Is 'apple' in the list?\", is_in_list)\n"
      ],
      "metadata": {
        "colab": {
          "base_uri": "https://localhost:8080/"
        },
        "id": "o-gupEdKDsP2",
        "outputId": "ae3668e7-2ed1-403d-f1a1-28cdb6cb5f17"
      },
      "execution_count": 9,
      "outputs": [
        {
          "output_type": "stream",
          "name": "stdout",
          "text": [
            "Is 'apple' in the list? True\n"
          ]
        }
      ]
    },
    {
      "cell_type": "code",
      "source": [
        "# 10. Iterating Over a List\n",
        "print(\"Iterating over the list:\")\n",
        "for fruit in fruits:\n",
        "    print(fruit)\n"
      ],
      "metadata": {
        "colab": {
          "base_uri": "https://localhost:8080/"
        },
        "id": "Yi7pfVNqESZF",
        "outputId": "51415fa5-d47d-4f28-f0ab-2a2290069c91"
      },
      "execution_count": 10,
      "outputs": [
        {
          "output_type": "stream",
          "name": "stdout",
          "text": [
            "Iterating over the list:\n",
            "apple\n",
            "pineapple\n",
            "cherry\n",
            "mango\n",
            "orange\n"
          ]
        }
      ]
    },
    {
      "cell_type": "code",
      "source": [
        "#  Reversing a List\n",
        "fruits.reverse()\n",
        "print(\"List after reversing the order:\", fruits)\n"
      ],
      "metadata": {
        "colab": {
          "base_uri": "https://localhost:8080/"
        },
        "id": "8bM9amoCEhQt",
        "outputId": "28e9aee3-4715-4b25-b320-acf8e4ce77e5"
      },
      "execution_count": 11,
      "outputs": [
        {
          "output_type": "stream",
          "name": "stdout",
          "text": [
            "List after reversing the order: ['orange', 'mango', 'cherry', 'pineapple', 'apple']\n"
          ]
        }
      ]
    },
    {
      "cell_type": "code",
      "source": [
        "#  List Comprehensions\n",
        "long_fruits = [fruit for fruit in fruits if len(fruit) > 5]\n",
        "print(\"Fruits with more than 5 letters:\", long_fruits)\n"
      ],
      "metadata": {
        "colab": {
          "base_uri": "https://localhost:8080/"
        },
        "id": "OaGVQh3lEuKG",
        "outputId": "eda3c3a3-2001-4fc0-f8b4-f3ac4ff218f5"
      },
      "execution_count": 12,
      "outputs": [
        {
          "output_type": "stream",
          "name": "stdout",
          "text": [
            "Fruits with more than 5 letters: ['orange', 'cherry', 'pineapple']\n"
          ]
        }
      ]
    },
    {
      "cell_type": "code",
      "source": [
        "#  List Comprehensions\n",
        "long_fruits = [fruit for fruit in fruits if len(fruit) > 5]\n",
        "print(\"Fruits with more than 5 letters:\", long_fruits)\n"
      ],
      "metadata": {
        "colab": {
          "base_uri": "https://localhost:8080/"
        },
        "id": "3WPkX4xSFWBe",
        "outputId": "10f9435e-327e-401d-ecc4-526da03c2b03"
      },
      "execution_count": 13,
      "outputs": [
        {
          "output_type": "stream",
          "name": "stdout",
          "text": [
            "Fruits with more than 5 letters: ['orange', 'cherry', 'pineapple']\n"
          ]
        }
      ]
    },
    {
      "cell_type": "code",
      "source": [
        "#  Copying a List\n",
        "fruits_copy = fruits.copy()\n",
        "print(\"Copied list:\", fruits_copy)\n"
      ],
      "metadata": {
        "colab": {
          "base_uri": "https://localhost:8080/"
        },
        "id": "-_uSshV1Ffvd",
        "outputId": "10dce4c5-62be-4018-fc59-d6c9de9b937a"
      },
      "execution_count": 14,
      "outputs": [
        {
          "output_type": "stream",
          "name": "stdout",
          "text": [
            "Copied list: ['orange', 'mango', 'cherry', 'pineapple', 'apple']\n"
          ]
        }
      ]
    },
    {
      "cell_type": "code",
      "source": [
        "#  Clearing a List\n",
        "fruits.clear()\n",
        "print(\"List after clearing all elements:\", fruits)\n"
      ],
      "metadata": {
        "colab": {
          "base_uri": "https://localhost:8080/"
        },
        "id": "V_6v9huOF0A9",
        "outputId": "0cde2f84-ecca-41a5-d672-569d9ff78c99"
      },
      "execution_count": 15,
      "outputs": [
        {
          "output_type": "stream",
          "name": "stdout",
          "text": [
            "List after clearing all elements: []\n"
          ]
        }
      ]
    }
  ]
}