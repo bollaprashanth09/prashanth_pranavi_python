{
  "nbformat": 4,
  "nbformat_minor": 0,
  "metadata": {
    "colab": {
      "provenance": [],
      "authorship_tag": "ABX9TyMmU7yx8qgyH9V8gZeYRN2A",
      "include_colab_link": true
    },
    "kernelspec": {
      "name": "python3",
      "display_name": "Python 3"
    },
    "language_info": {
      "name": "python"
    }
  },
  "cells": [
    {
      "cell_type": "markdown",
      "metadata": {
        "id": "view-in-github",
        "colab_type": "text"
      },
      "source": [
        "<a href=\"https://colab.research.google.com/github/bollaprashanth09/prashanth_pranavi_python/blob/main/lab29_division3.ipynb\" target=\"_parent\"><img src=\"https://colab.research.google.com/assets/colab-badge.svg\" alt=\"Open In Colab\"/></a>"
      ]
    },
    {
      "cell_type": "code",
      "execution_count": 2,
      "metadata": {
        "colab": {
          "base_uri": "https://localhost:8080/"
        },
        "id": "4Hs7Pe_43TMQ",
        "outputId": "a612ead9-e222-4315-8ee1-57de5fb46c5a"
      },
      "outputs": [
        {
          "output_type": "stream",
          "name": "stdout",
          "text": [
            "Enter the starting number: 9\n",
            "Enter the ending number: 15\n",
            "Numbers between 9 and 15 that are divisible by 3 and multiples of 5:\n",
            "15\n"
          ]
        }
      ],
      "source": [
        "start_number = int(input(\"Enter the starting number: \"))\n",
        "end_number = int(input(\"Enter the ending number: \"))\n",
        "\n",
        "# Ensure the start number is less than the end number\n",
        "if start_number > end_number:\n",
        "    print(\"The starting number must be less than the ending number.\")\n",
        "else:\n",
        "    # Iterate through the range of numbers\n",
        "    print(f\"Numbers between {start_number} and {end_number} that are divisible by 3 and multiples of 5:\")\n",
        "    for num in range(start_number, end_number + 1):\n",
        "        if num % 3 == 0 and num % 5 == 0:\n",
        "            print(num)\n"
      ]
    }
  ]
}