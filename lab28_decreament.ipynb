{
  "nbformat": 4,
  "nbformat_minor": 0,
  "metadata": {
    "colab": {
      "provenance": [],
      "authorship_tag": "ABX9TyPOt1hJ1WXk0dsQknuels34",
      "include_colab_link": true
    },
    "kernelspec": {
      "name": "python3",
      "display_name": "Python 3"
    },
    "language_info": {
      "name": "python"
    }
  },
  "cells": [
    {
      "cell_type": "markdown",
      "metadata": {
        "id": "view-in-github",
        "colab_type": "text"
      },
      "source": [
        "<a href=\"https://colab.research.google.com/github/bollaprashanth09/prashanth_pranavi_python/blob/main/lab28_decreament.ipynb\" target=\"_parent\"><img src=\"https://colab.research.google.com/assets/colab-badge.svg\" alt=\"Open In Colab\"/></a>"
      ]
    },
    {
      "cell_type": "code",
      "execution_count": 1,
      "metadata": {
        "colab": {
          "base_uri": "https://localhost:8080/"
        },
        "id": "R2xN07wXzVKr",
        "outputId": "c8756e29-e1b8-4063-eed6-efa54db0aac3"
      },
      "outputs": [
        {
          "output_type": "stream",
          "name": "stdout",
          "text": [
            "10\n",
            "9\n",
            "8\n",
            "7\n",
            "6\n",
            "Loop terminated early because the number reached 5.\n"
          ]
        }
      ],
      "source": [
        "# Start at 10\n",
        "number = 10\n",
        "\n",
        "# Decrement the number until it reaches 5, then break the loop\n",
        "while number > 0:\n",
        "    print(number)\n",
        "    number -= 1\n",
        "    if number == 5:\n",
        "        break\n",
        "\n",
        "print(\"Loop terminated early because the number reached 5.\")\n"
      ]
    }
  ]
}