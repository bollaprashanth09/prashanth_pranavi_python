{
  "nbformat": 4,
  "nbformat_minor": 0,
  "metadata": {
    "colab": {
      "provenance": [],
      "authorship_tag": "ABX9TyPV45mRgdhJV+j0Kc2Kvgcv",
      "include_colab_link": true
    },
    "kernelspec": {
      "name": "python3",
      "display_name": "Python 3"
    },
    "language_info": {
      "name": "python"
    }
  },
  "cells": [
    {
      "cell_type": "markdown",
      "metadata": {
        "id": "view-in-github",
        "colab_type": "text"
      },
      "source": [
        "<a href=\"https://colab.research.google.com/github/bollaprashanth09/prashanth_pranavi_python/blob/main/lab27_loop_iteretive.ipynb\" target=\"_parent\"><img src=\"https://colab.research.google.com/assets/colab-badge.svg\" alt=\"Open In Colab\"/></a>"
      ]
    },
    {
      "cell_type": "code",
      "execution_count": 1,
      "metadata": {
        "colab": {
          "base_uri": "https://localhost:8080/"
        },
        "id": "sCpEzL-DoBWq",
        "outputId": "dc63562d-d6e3-4389-e2a9-fba7526a8f51"
      },
      "outputs": [
        {
          "output_type": "stream",
          "name": "stdout",
          "text": [
            "E\n",
            "d\n",
            "u\n",
            "n\n",
            "e\n",
            "t\n",
            " \n",
            "F\n",
            "o\n",
            "u\n",
            "n\n",
            "d\n",
            "a\n",
            "t\n",
            "i\n",
            "o\n",
            "n\n"
          ]
        }
      ],
      "source": [
        "# A string\n",
        "word = \"Edunet Foundation\"\n",
        "\n",
        "# Using a for loop to iterate over each character\n",
        "for letter in word:\n",
        "    print(letter)\n"
      ]
    }
  ]
}