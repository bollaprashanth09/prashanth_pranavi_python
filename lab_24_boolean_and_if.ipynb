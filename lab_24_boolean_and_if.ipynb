{
  "nbformat": 4,
  "nbformat_minor": 0,
  "metadata": {
    "colab": {
      "provenance": [],
      "authorship_tag": "ABX9TyObxLYTaRbI3D8nuBtsv9gI",
      "include_colab_link": true
    },
    "kernelspec": {
      "name": "python3",
      "display_name": "Python 3"
    },
    "language_info": {
      "name": "python"
    }
  },
  "cells": [
    {
      "cell_type": "markdown",
      "metadata": {
        "id": "view-in-github",
        "colab_type": "text"
      },
      "source": [
        "<a href=\"https://colab.research.google.com/github/bollaprashanth09/prashanth_pranavi_python/blob/main/lab_24_boolean_and_if.ipynb\" target=\"_parent\"><img src=\"https://colab.research.google.com/assets/colab-badge.svg\" alt=\"Open In Colab\"/></a>"
      ]
    },
    {
      "cell_type": "code",
      "execution_count": 1,
      "metadata": {
        "colab": {
          "base_uri": "https://localhost:8080/"
        },
        "id": "7wQpWzM3hP-c",
        "outputId": "95bd4b99-e193-4070-b808-a4212376388c"
      },
      "outputs": [
        {
          "output_type": "stream",
          "name": "stdout",
          "text": [
            "At least one condition is False.\n"
          ]
        }
      ],
      "source": [
        "# Create two Boolean objects\n",
        "bool1 = True\n",
        "bool2 = False\n",
        "\n",
        "# Use the 'and' operator in an if statement\n",
        "if bool1 and bool2:\n",
        "    print(\"Both conditions are True.\")\n",
        "else:\n",
        "    print(\"At least one condition is False.\")\n"
      ]
    }
  ]
}